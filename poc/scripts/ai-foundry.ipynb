{
 "cells": [
  {
   "cell_type": "markdown",
   "id": "dc37ae3e-321e-4971-aacb-4b28e74fcc9f",
   "metadata": {},
   "source": [
    "# Uploading documents"
   ]
  },
  {
   "cell_type": "code",
   "execution_count": null,
   "id": "ad4715ed-0bf8-4eec-bc7d-aafd43fba407",
   "metadata": {},
   "outputs": [],
   "source": [
    "from azure.identity import DefaultAzureCredential\n",
    "from azure.storage.blob import BlobServiceClient, BlobClient, ContainerClient\n",
    "from dotenv import load_dotenv\n",
    "import os\n",
    "\n",
    "load_dotenv()  # Automatically loads variables from .env file"
   ]
  },
  {
   "cell_type": "code",
   "execution_count": null,
   "id": "c2a14e02-706c-4e75-bcfd-e53c248ff77b",
   "metadata": {},
   "outputs": [],
   "source": [
    "# === 1. KONFIGURATION ===\n",
    "storage_account_url = \"https://elternlebenpocteam5us.blob.core.windows.net\"\n",
    "container_name = \"elternleben-de-website\"\n",
    "local_folder_path = \"../../../n3xtcoder/ai4impact-elternleben\""
   ]
  },
  {
   "cell_type": "code",
   "execution_count": null,
   "id": "7c578d41-d173-47d8-8b36-43ec88824007",
   "metadata": {},
   "outputs": [],
   "source": [
    "# === 2. VERBINDUNG AUFBAUEN ===\n",
    "credential = DefaultAzureCredential()\n",
    "blob_service_client = BlobServiceClient(account_url=storage_account_url, credential=credential)\n"
   ]
  },
  {
   "cell_type": "code",
   "execution_count": null,
   "id": "75696423-d192-4e17-a32b-56c9c6daaffb",
   "metadata": {},
   "outputs": [],
   "source": [
    "# === 3. CONTAINER ERSTELLEN (falls nicht vorhanden) ===\n",
    "try:\n",
    "    container_client = blob_service_client.create_container(container_name)\n",
    "    print(f\"Container '{container_name}' wurde erstellt.\")\n",
    "except Exception as e:\n",
    "    print(f\"Container '{container_name}' existiert wahrscheinlich schon. {e}\")\n",
    "    container_client = blob_service_client.get_container_client(container_name)"
   ]
  },
  {
   "cell_type": "code",
   "execution_count": null,
   "id": "bfeac3a3-8d3f-4db8-899c-e3f7a7d154b0",
   "metadata": {},
   "outputs": [],
   "source": [
    "# === 4. REKURSIVES HOCHLADEN DER MARKDOWN-DATEIEN ===\n",
    "for root, dirs, files in os.walk(local_folder_path):\n",
    "    for filename in files:\n",
    "        if filename.endswith(\".md\"):\n",
    "            file_path_on_disk = os.path.join(root, filename)\n",
    "            \n",
    "            # Pfad innerhalb des Containers (ohne lokalen Basisordner)\n",
    "            relative_path = os.path.relpath(file_path_on_disk, start=local_folder_path)\n",
    "            blob_client = container_client.get_blob_client(blob=relative_path.replace(\"\\\\\", \"/\"))  # Wichtig für Windows\n",
    "            \n",
    "            # Datei hochladen\n",
    "            with open(file_path_on_disk, \"rb\") as data:\n",
    "                blob_client.upload_blob(data, overwrite=True)\n",
    "                print(f\"Hochgeladen: {relative_path}\")"
   ]
  },
  {
   "cell_type": "code",
   "execution_count": null,
   "id": "3912fdd5-8aff-45fe-a9e0-d75f630c2fa3",
   "metadata": {},
   "outputs": [],
   "source": []
  }
 ],
 "metadata": {
  "kernelspec": {
   "display_name": "Python 3",
   "language": "python",
   "name": "python3"
  },
  "language_info": {
   "codemirror_mode": {
    "name": "ipython",
    "version": 3
   },
   "file_extension": ".py",
   "mimetype": "text/x-python",
   "name": "python",
   "nbconvert_exporter": "python",
   "pygments_lexer": "ipython3",
   "version": "3.13.3"
  }
 },
 "nbformat": 4,
 "nbformat_minor": 5
}
